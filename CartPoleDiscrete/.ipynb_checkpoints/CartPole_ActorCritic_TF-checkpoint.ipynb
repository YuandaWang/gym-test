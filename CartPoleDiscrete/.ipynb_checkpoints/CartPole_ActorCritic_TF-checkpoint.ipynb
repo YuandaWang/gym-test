{
 "cells": [
  {
   "cell_type": "code",
   "execution_count": 31,
   "metadata": {
    "collapsed": false
   },
   "outputs": [],
   "source": [
    "# CartPole\n",
    "# Discrete Control input\n",
    "# Actor Critic structure, with tensorflow\n",
    "\n",
    "# Hope it works\n",
    "\n",
    "import gym\n",
    "import numpy as np\n",
    "import tensorflow as tf\n",
    "import matplotlib.pyplot as plt\n",
    "\n",
    "n_observation = 4\n",
    "n_action = 2\n",
    "n_hidden_c = 10\n",
    "n_hidden_a = 10\n",
    "\n",
    "gamma = 0.9\n",
    "\n",
    "# Critic Network\n",
    "tf_obs_c = tf.placeholder(tf.float32, [None, n_observation])\n",
    "# layers\n",
    "with tf.variable_scope('CriticScope'):\n",
    "    W1_c = tf.Variable(tf.random_normal([n_observation, n_hidden_c]))\n",
    "    b1_c = tf.Variable(tf.random_normal([n_hidden_c]))\n",
    "    W2_c = tf.Variable(tf.random_normal([n_hidden_c, n_action]))\n",
    "    b2_c = tf.Variable(tf.random_normal([n_action]))\n",
    "\n",
    "CriticVars = tf.get_collection(tf.GraphKeys.VARIABLES, scope='CriticScope')\n",
    "\n",
    "    \n",
    "fc1_c = tf.nn.relu(tf.matmul(tf_obs_c, W1_c) + b1_c)\n",
    "out_c = tf.matmul(fc1_c, W2_c) + b2_c\n",
    "# this is not good for batch calculation\n",
    "outQ_c = tf.reduce_max(out_c)\n",
    "\n",
    "# training\n",
    "tf_action = tf.placeholder(tf.int32, [None,1])\n",
    "tf_targetQ = tf.placeholder(tf.float32, [None,1])\n",
    "tf_action_onehot = tf.one_hot(tf_action, n_action)\n",
    "tf_Qsa = tf.reduce_sum(tf.mul(out_c, tf_action_onehot), 1)\n",
    "# loss\n",
    "td_error = tf.square(tf_targetQ - tf_Qsa)\n",
    "loss_c = tf.reduce_mean(td_error)\n",
    "trainer_c = tf.train.AdamOptimizer(0.01).minimize(loss_c, var_list=CriticVars) \n",
    "\n",
    "\n",
    "# Actor Network\n",
    "tf_obs_a = tf.placeholder(tf.float32, [None, n_observation])\n",
    "tf_Qsa_a = tf.placeholder(tf.float32, [None,1])\n",
    "# layers\n",
    "with tf.variable_scope('ActorScope'):\n",
    "    W1_a = tf.Variable(tf.random_normal([n_observation, n_hidden_a]))\n",
    "    b1_a = tf.Variable(tf.random_normal([n_hidden_a]))\n",
    "    W2_a = tf.Variable(tf.random_normal([n_hidden_a, n_action]))\n",
    "    b2_a = tf.Variable(tf.random_normal([n_action]))\n",
    "ActorVars = tf.get_collection(tf.GraphKeys.VARIABLES, scope='ActorScope')\n",
    "    \n",
    "fc1_a = tf.nn.relu(tf.matmul(tf_obs_a, W1_a) + b1_a)\n",
    "out_a = tf.matmul(fc1_a, W2_a) + b2_a\n",
    "tf_prob = tf.nn.softmax(out_a)\n",
    "# training\n",
    "tf_log_prob = tf.reduce_sum(-tf.log(tf_prob) * tf_action_onehot, 1)\n",
    "loss_a = tf.reduce_mean(tf.mul(tf_log_prob, tf_Qsa_a))\n",
    "trainer_a = tf.train.AdamOptimizer(0.01).minimize(loss_a, var_list=ActorVars)\n"
   ]
  },
  {
   "cell_type": "code",
   "execution_count": 32,
   "metadata": {
    "collapsed": false
   },
   "outputs": [
    {
     "name": "stderr",
     "output_type": "stream",
     "text": [
      "[2017-07-11 16:21:29,897] Making new env: CartPole-v0\n"
     ]
    },
    {
     "ename": "ValueError",
     "evalue": "Cannot feed value of shape () for Tensor u'Placeholder_36:0', which has shape '(?, 1)'",
     "output_type": "error",
     "traceback": [
      "\u001b[0;31m---------------------------------------------------------------------------\u001b[0m",
      "\u001b[0;31mValueError\u001b[0m                                Traceback (most recent call last)",
      "\u001b[0;32m<ipython-input-32-31670abd02ad>\u001b[0m in \u001b[0;36m<module>\u001b[0;34m()\u001b[0m\n\u001b[1;32m     24\u001b[0m             \u001b[0mtargetQ\u001b[0m \u001b[0;34m=\u001b[0m \u001b[0mr\u001b[0m \u001b[0;34m+\u001b[0m \u001b[0mgamma\u001b[0m \u001b[0;34m*\u001b[0m \u001b[0mmaxQ1\u001b[0m\u001b[0;34m\u001b[0m\u001b[0m\n\u001b[1;32m     25\u001b[0m \u001b[0;34m\u001b[0m\u001b[0m\n\u001b[0;32m---> 26\u001b[0;31m             \u001b[0mQsa\u001b[0m \u001b[0;34m=\u001b[0m \u001b[0msess\u001b[0m\u001b[0;34m.\u001b[0m\u001b[0mrun\u001b[0m\u001b[0;34m(\u001b[0m\u001b[0mtf_Qsa\u001b[0m\u001b[0;34m,\u001b[0m \u001b[0mfeed_dict\u001b[0m\u001b[0;34m=\u001b[0m\u001b[0;34m{\u001b[0m\u001b[0mtf_obs_c\u001b[0m\u001b[0;34m:\u001b[0m\u001b[0;34m[\u001b[0m\u001b[0ms\u001b[0m\u001b[0;34m]\u001b[0m\u001b[0;34m,\u001b[0m \u001b[0mtf_action\u001b[0m\u001b[0;34m:\u001b[0m\u001b[0maction\u001b[0m\u001b[0;34m}\u001b[0m\u001b[0;34m)\u001b[0m\u001b[0;34m\u001b[0m\u001b[0m\n\u001b[0m\u001b[1;32m     27\u001b[0m             sess.run(trainer_a, feed_dict={tf_obs_a:[s],\n\u001b[1;32m     28\u001b[0m                                            \u001b[0mtf_Qsa_a\u001b[0m\u001b[0;34m:\u001b[0m\u001b[0;34m[\u001b[0m\u001b[0mQsa\u001b[0m\u001b[0;34m]\u001b[0m\u001b[0;34m,\u001b[0m\u001b[0;34m\u001b[0m\u001b[0m\n",
      "\u001b[0;32m/home/yuanda/anaconda2/lib/python2.7/site-packages/tensorflow/python/client/session.pyc\u001b[0m in \u001b[0;36mrun\u001b[0;34m(self, fetches, feed_dict, options, run_metadata)\u001b[0m\n\u001b[1;32m    380\u001b[0m     \u001b[0;32mtry\u001b[0m\u001b[0;34m:\u001b[0m\u001b[0;34m\u001b[0m\u001b[0m\n\u001b[1;32m    381\u001b[0m       result = self._run(None, fetches, feed_dict, options_ptr,\n\u001b[0;32m--> 382\u001b[0;31m                          run_metadata_ptr)\n\u001b[0m\u001b[1;32m    383\u001b[0m       \u001b[0;32mif\u001b[0m \u001b[0mrun_metadata\u001b[0m\u001b[0;34m:\u001b[0m\u001b[0;34m\u001b[0m\u001b[0m\n\u001b[1;32m    384\u001b[0m         \u001b[0mproto_data\u001b[0m \u001b[0;34m=\u001b[0m \u001b[0mtf_session\u001b[0m\u001b[0;34m.\u001b[0m\u001b[0mTF_GetBuffer\u001b[0m\u001b[0;34m(\u001b[0m\u001b[0mrun_metadata_ptr\u001b[0m\u001b[0;34m)\u001b[0m\u001b[0;34m\u001b[0m\u001b[0m\n",
      "\u001b[0;32m/home/yuanda/anaconda2/lib/python2.7/site-packages/tensorflow/python/client/session.pyc\u001b[0m in \u001b[0;36m_run\u001b[0;34m(self, handle, fetches, feed_dict, options, run_metadata)\u001b[0m\n\u001b[1;32m    638\u001b[0m                 \u001b[0;34m'Cannot feed value of shape %r for Tensor %r, '\u001b[0m\u001b[0;34m\u001b[0m\u001b[0m\n\u001b[1;32m    639\u001b[0m                 \u001b[0;34m'which has shape %r'\u001b[0m\u001b[0;34m\u001b[0m\u001b[0m\n\u001b[0;32m--> 640\u001b[0;31m                 % (np_val.shape, subfeed_t.name, str(subfeed_t.get_shape())))\n\u001b[0m\u001b[1;32m    641\u001b[0m           \u001b[0;32mif\u001b[0m \u001b[0;32mnot\u001b[0m \u001b[0mself\u001b[0m\u001b[0;34m.\u001b[0m\u001b[0mgraph\u001b[0m\u001b[0;34m.\u001b[0m\u001b[0mis_feedable\u001b[0m\u001b[0;34m(\u001b[0m\u001b[0msubfeed_t\u001b[0m\u001b[0;34m)\u001b[0m\u001b[0;34m:\u001b[0m\u001b[0;34m\u001b[0m\u001b[0m\n\u001b[1;32m    642\u001b[0m             \u001b[0;32mraise\u001b[0m \u001b[0mValueError\u001b[0m\u001b[0;34m(\u001b[0m\u001b[0;34m'Tensor %s may not be fed.'\u001b[0m \u001b[0;34m%\u001b[0m \u001b[0msubfeed_t\u001b[0m\u001b[0;34m)\u001b[0m\u001b[0;34m\u001b[0m\u001b[0m\n",
      "\u001b[0;31mValueError\u001b[0m: Cannot feed value of shape () for Tensor u'Placeholder_36:0', which has shape '(?, 1)'"
     ]
    }
   ],
   "source": [
    "# Init tensorflow\n",
    "init = tf.initialize_all_variables()\n",
    "sess = tf.Session()\n",
    "sess.run(init)\n",
    "env = gym.make('CartPole-v0')\n",
    "\n",
    "loss_log = []\n",
    "r_sum_log = []\n",
    "\n",
    "for episode in range(1000):\n",
    "    s = env.reset()\n",
    "    r_sum = 0\n",
    "    for step in range(200):\n",
    "        prob = sess.run(tf_prob, feed_dict={tf_obs_a:[s]})[0]\n",
    "        action = np.random.choice([0, 1], p=prob)\n",
    "        #action = np.random.choice([0, 1], p=[0.5,0.5])\n",
    "        s1, r, d, info = env.step(action)\n",
    "        r_sum += r\n",
    "        \n",
    "        #env.render()\n",
    "        if not d:\n",
    "            # Training\n",
    "            maxQ1 = sess.run(outQ_c, feed_dict={tf_obs_c:[s1]})\n",
    "            targetQ = r + gamma * maxQ1\n",
    "            \n",
    "            Qsa = sess.run(tf_Qsa, feed_dict={tf_obs_c:[s], tf_action:np.array([[action]])})\n",
    "            sess.run(trainer_a, feed_dict={tf_obs_a:[s],\n",
    "                                           tf_Qsa_a:[Qsa],\n",
    "                                           tf_action:[action]})\n",
    "            \n",
    "            _, loss = sess.run([trainer_c, loss_c], feed_dict={tf_obs_c:[s], \n",
    "                                                               tf_action:[action], \n",
    "                                                               tf_targetQ:[targetQ]})\n",
    "            loss_log.append(loss)\n",
    "            # Update Action Network\n",
    "\n",
    "        else:\n",
    "            break\n",
    "        s = s1\n",
    "    r_sum_log.append(r_sum)\n",
    "plt.plot(loss_log)\n",
    "plt.show()\n",
    "plt.plot(r_sum_log)\n",
    "plt.show()"
   ]
  },
  {
   "cell_type": "code",
   "execution_count": 33,
   "metadata": {
    "collapsed": false
   },
   "outputs": [
    {
     "data": {
      "text/plain": [
       "<tf.Tensor 'Placeholder_36:0' shape=(?, 1) dtype=int32>"
      ]
     },
     "execution_count": 33,
     "metadata": {},
     "output_type": "execute_result"
    }
   ],
   "source": [
    "tf_action"
   ]
  },
  {
   "cell_type": "code",
   "execution_count": 34,
   "metadata": {
    "collapsed": false
   },
   "outputs": [
    {
     "data": {
      "text/plain": [
       "0"
      ]
     },
     "execution_count": 34,
     "metadata": {},
     "output_type": "execute_result"
    }
   ],
   "source": []
  },
  {
   "cell_type": "code",
   "execution_count": 42,
   "metadata": {
    "collapsed": false
   },
   "outputs": [
    {
     "data": {
      "text/plain": [
       "array([[ -1.67610991e+00,   4.71739388e+01,  -8.65701854e-01,\n",
       "          1.20330083e+00,   4.79802361e+01,   4.73278580e+01,\n",
       "         -4.09298874e-02,  -2.33825520e-01,   4.87908440e+01,\n",
       "          4.78894615e+01],\n",
       "       [ -1.88472176e+00,   1.17692276e+02,   1.05710363e+00,\n",
       "          6.79036319e-01,   1.16898247e+02,   1.14559540e+02,\n",
       "          3.73687923e-01,  -8.05530131e-01,   1.16380325e+02,\n",
       "          1.17507347e+02],\n",
       "       [  1.23148179e+00,  -5.93880577e+01,   1.10654838e-01,\n",
       "         -1.79715085e+00,  -6.21515427e+01,  -6.07448387e+01,\n",
       "         -2.90531427e-01,  -3.09618682e-01,  -6.24232407e+01,\n",
       "         -6.09024963e+01],\n",
       "       [ -7.48532712e-01,  -1.17609161e+02,   1.05659223e+00,\n",
       "          3.80351484e-01,  -1.17822266e+02,  -1.17380798e+02,\n",
       "          1.21481180e+00,   1.91266492e-01,  -1.18855255e+02,\n",
       "         -1.17303322e+02]], dtype=float32)"
      ]
     },
     "execution_count": 42,
     "metadata": {},
     "output_type": "execute_result"
    }
   ],
   "source": [
    "sess.run(W1_c)"
   ]
  },
  {
   "cell_type": "code",
   "execution_count": 15,
   "metadata": {
    "collapsed": false
   },
   "outputs": [],
   "source": [
    "for episode in range(10):\n",
    "    env.reset()\n",
    "    action = env.action_space.sample()\n",
    "    s, r, d, info = env.step(action)\n",
    "    for step in range(200):\n",
    "        prob = sess.run(tf_prob, feed_dict={tf_obs_a:s[np.newaxis,:]})[0]\n",
    "        action = np.random.choice([0, 1], p=prob)\n",
    "        s, r, d, info = env.step(action)\n",
    "        env.render()\n",
    "        if d:\n",
    "            break"
   ]
  },
  {
   "cell_type": "code",
   "execution_count": null,
   "metadata": {
    "collapsed": true
   },
   "outputs": [],
   "source": []
  }
 ],
 "metadata": {
  "kernelspec": {
   "display_name": "Python [default]",
   "language": "python",
   "name": "python2"
  },
  "language_info": {
   "codemirror_mode": {
    "name": "ipython",
    "version": 2
   },
   "file_extension": ".py",
   "mimetype": "text/x-python",
   "name": "python",
   "nbconvert_exporter": "python",
   "pygments_lexer": "ipython2",
   "version": "2.7.12"
  }
 },
 "nbformat": 4,
 "nbformat_minor": 1
}
