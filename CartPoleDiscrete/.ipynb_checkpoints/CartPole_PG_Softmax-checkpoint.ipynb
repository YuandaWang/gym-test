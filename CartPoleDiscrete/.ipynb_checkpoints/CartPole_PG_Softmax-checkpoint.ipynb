{
 "cells": [
  {
   "cell_type": "code",
   "execution_count": 42,
   "metadata": {
    "collapsed": false
   },
   "outputs": [
    {
     "name": "stderr",
     "output_type": "stream",
     "text": [
      "[2017-07-11 14:36:42,959] Making new env: CartPole-v0\n"
     ]
    },
    {
     "name": "stdout",
     "output_type": "stream",
     "text": [
      "Training Done!\n"
     ]
    }
   ],
   "source": [
    "# CartPole\n",
    "# Policy gradient, linear policy, no Neural Network\n",
    "\n",
    "# solved\n",
    "\n",
    "import gym\n",
    "import numpy as np\n",
    "import matplotlib.pyplot as plt\n",
    "\n",
    "env = gym.make('CartPole-v0')\n",
    "# observation 4, action 0 or 1\n",
    "\n",
    "# REINFORCE algorithm, update distribution parameters after one episode\n",
    "theta = np.random.random([4,2])\n",
    "gamma = 0.95\n",
    "alpha = 0.01\n",
    "steplog = []\n",
    "for episode in range(1000):\n",
    "    slog = []\n",
    "    alog = []\n",
    "    rlog = []\n",
    "    plog = []\n",
    "    s = env.reset()\n",
    "    for step in range(200):\n",
    "        # softmax\n",
    "        prob = np.exp(np.dot(s, theta))/np.sum(np.exp(np.dot(s, theta)))\n",
    "        # choose action by probability\n",
    "        action = np.random.choice([0, 1], p=prob)\n",
    "        s1, r, d, info = env.step(action)\n",
    "        plog.append(prob)\n",
    "        slog.append(s)\n",
    "        alog.append(action)\n",
    "        rlog.append(r)   \n",
    "        \n",
    "        s = s1\n",
    "        #env.render()\n",
    "        \n",
    "        if d:\n",
    "            break\n",
    "\n",
    "    # calculate return v\n",
    "    v = np.zeros([len(rlog)])\n",
    "    v[-1] = rlog[-1]\n",
    "    for i in range(len(rlog)):\n",
    "        v[-i-1] = rlog[-i-1] + gamma * v[-i]\n",
    "    # normalize return v\n",
    "    v -= np.mean(v)\n",
    "    v /= np.std(v)\n",
    "        \n",
    "    # reinforce update parameter theta\n",
    "    for i in range(len(rlog)):\n",
    "        a = alog[i]\n",
    "        dtheta1 = alpha * slog[i] * (1 - plog[i][a]) * v[i]\n",
    "        dtheta2 = alpha * slog[i] * (0 - plog[i][1-a]) * v[i]\n",
    "        \n",
    "        theta[:,a]   += dtheta1\n",
    "        # why?\n",
    "        theta[:,1-a] += dtheta2\n",
    "        \n",
    "    steplog.append(step)\n",
    "print 'Training Done!'"
   ]
  },
  {
   "cell_type": "code",
   "execution_count": 43,
   "metadata": {
    "collapsed": false
   },
   "outputs": [
    {
     "data": {
      "image/png": "[encoded data removed]",
      "text/plain": [
       "<matplotlib.figure.Figure at 0x7fcc7161e550>"
      ]
     },
     "metadata": {},
     "output_type": "display_data"
    }
   ],
   "source": [
    "plt.plot(steplog)\n",
    "plt.show()"
   ]
  },
  {
   "cell_type": "code",
   "execution_count": 18,
   "metadata": {
    "collapsed": false
   },
   "outputs": [
    {
     "data": {
      "text/plain": [
       "array([[ -5.47787614,  -5.63700555],\n",
       "       [-17.01251078, -12.27519285],\n",
       "       [ -5.75151005,   7.17943791],\n",
       "       [ -1.20422751,   6.40755457]])"
      ]
     },
     "execution_count": 18,
     "metadata": {},
     "output_type": "execute_result"
    }
   ],
   "source": [
    "theta"
   ]
  },
  {
   "cell_type": "code",
   "execution_count": null,
   "metadata": {
    "collapsed": false
   },
   "outputs": [],
   "source": []
  },
  {
   "cell_type": "code",
   "execution_count": null,
   "metadata": {
    "collapsed": false
   },
   "outputs": [],
   "source": [
    "import numpy as np\n",
    "for i in range(1):\n",
    "    env.render()\n",
    "    action = env.action_space.sample()\n",
    "    s, r, d, info = env.step(action)\n",
    "    \n",
    "theta = np.random.random([4,2])\n",
    "np.dot(s, theta)"
   ]
  },
  {
   "cell_type": "code",
   "execution_count": null,
   "metadata": {
    "collapsed": true
   },
   "outputs": [],
   "source": []
  }
 ],
 "metadata": {
  "anaconda-cloud": {},
  "kernelspec": {
   "display_name": "Python [default]",
   "language": "python",
   "name": "python2"
  },
  "language_info": {
   "codemirror_mode": {
    "name": "ipython",
    "version": 2
   },
   "file_extension": ".py",
   "mimetype": "text/x-python",
   "name": "python",
   "nbconvert_exporter": "python",
   "pygments_lexer": "ipython2",
   "version": "2.7.12"
  }
 },
 "nbformat": 4,
 "nbformat_minor": 1
}
