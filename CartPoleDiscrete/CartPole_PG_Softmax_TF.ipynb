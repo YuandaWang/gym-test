{
 "cells": [
  {
   "cell_type": "code",
   "execution_count": 98,
   "metadata": {
    "collapsed": false
   },
   "outputs": [
    {
     "name": "stderr",
     "output_type": "stream",
     "text": [
      "[2017-07-11 16:15:52,852] Making new env: CartPole-v0\n"
     ]
    }
   ],
   "source": [
    "# CartPole \n",
    "# Policy Gradient: REINFORCE Softmax \n",
    "# Discrete Policy \n",
    "# Use Tensorflow\n",
    "\n",
    "# solved\n",
    "\n",
    "import gym\n",
    "import numpy as np\n",
    "import tensorflow as tf\n",
    "import matplotlib.pyplot as plt\n",
    "\n",
    "env = gym.make('CartPole-v0')\n",
    "# observation 4, action 0 or 1\n",
    "n_observation = 4\n",
    "n_action = 2\n",
    "n_hidden = 10"
   ]
  },
  {
   "cell_type": "code",
   "execution_count": 99,
   "metadata": {
    "collapsed": false
   },
   "outputs": [],
   "source": [
    "# policy network tensorflow\n",
    "tf_obs = tf.placeholder(tf.float32, [None, n_observation])\n",
    "tf_act = tf.placeholder(tf.int32, [None, ])\n",
    "tf_v = tf.placeholder(tf.float32, [None, ])\n",
    "# tf_inprobs = tf.placeholder(tf.float32, [None, n_action])\n",
    "\n",
    "# layers\n",
    "W1 = tf.Variable(tf.random_normal([n_observation, n_hidden]))\n",
    "b1 = tf.Variable(tf.random_normal([n_hidden]))\n",
    "fc1 = tf.nn.relu(tf.matmul(tf_obs, W1))\n",
    "\n",
    "W2 = tf.Variable(tf.random_normal([n_hidden, n_action]))\n",
    "b2 = tf.Variable(tf.random_normal([n_action]))\n",
    "\n",
    "out = tf.matmul(fc1, W2)\n",
    "tf_prob = tf.nn.softmax(out)\n",
    "\n",
    "# loss\n",
    "# in one episode: each step can be considered as the first step, the J(theta) is \n",
    "# still the first step of V\n",
    "log_prob = tf.reduce_sum(-tf.log(tf_prob) * tf.one_hot(tf_act, n_action), 1)\n",
    "#log_prob = tf.nn.sparse_softmax_cross_entropy_with_logits(logits=out, labels=tf_act)\n",
    "loss = tf.reduce_mean(tf.mul(log_prob, tf_v))   # tf.multiply in new version\n",
    "# train\n",
    "trainer = tf.train.AdamOptimizer(0.01).minimize(loss)\n",
    "# init\n",
    "init = tf.initialize_all_variables()\n",
    "sess = tf.Session()\n",
    "sess.run(init)"
   ]
  },
  {
   "cell_type": "code",
   "execution_count": 96,
   "metadata": {
    "collapsed": false,
    "scrolled": false
   },
   "outputs": [
    {
     "name": "stdout",
     "output_type": "stream",
     "text": [
      "Training Done!\n"
     ]
    }
   ],
   "source": [
    "# REINFORCE algorithm, update distribution parameters after one episode\n",
    "gamma = 0.99\n",
    "steplog = []\n",
    "rsumlog = []\n",
    "for episode in range(1000):\n",
    "    slog = []\n",
    "    alog = []\n",
    "    rlog = []\n",
    "    plog = []\n",
    "    rsum = 0\n",
    "    s = env.reset()\n",
    "    for step in range(200):\n",
    "        # feed policy network\n",
    "        prob = sess.run(tf_prob, feed_dict={tf_obs:[s]})[0]\n",
    "        # choose action by probability\n",
    "        action = np.random.choice([0, 1], p=prob)\n",
    "        s1, r, d, info = env.step(action)\n",
    "        rsum += r\n",
    "        plog.append(prob)\n",
    "        slog.append(s)\n",
    "        alog.append(action)\n",
    "        rlog.append(r)\n",
    "        \n",
    "        s = s1\n",
    "        \n",
    "        #env.render()\n",
    "        \n",
    "        if d:\n",
    "            break\n",
    "    rsumlog.append(rsum)\n",
    "    \n",
    "    # calculate return v\n",
    "    v = np.zeros([len(rlog)])\n",
    "    v[-1] = rlog[-1]\n",
    "    for i in range(len(rlog)):\n",
    "        v[-i-1] = rlog[-i-1] + gamma * v[-i]\n",
    "    # normalize return v\n",
    "    v -= np.mean(v)\n",
    "    v /= np.std(v)\n",
    "        \n",
    "    # reinforce update parameter theta\n",
    "    # batch update\n",
    "    sess.run(trainer, feed_dict={tf_obs:slog, tf_act:alog, tf_v:v})\n",
    "    \n",
    "    steplog.append(step)\n",
    "print 'Training Done!'"
   ]
  },
  {
   "cell_type": "code",
   "execution_count": 97,
   "metadata": {
    "collapsed": false
   },
   "outputs": [
    {
     "data": {
      "image/png": "[encoded data removed]",
      "text/plain": [
       "<matplotlib.figure.Figure at 0x7ff06b9e8c10>"
      ]
     },
     "metadata": {},
     "output_type": "display_data"
    }
   ],
   "source": [
    "plt.plot(rsumlog)\n",
    "plt.show()"
   ]
  },
  {
   "cell_type": "code",
   "execution_count": 82,
   "metadata": {
    "collapsed": false
   },
   "outputs": [
    {
     "data": {
      "text/plain": [
       "array([[  9.99939203e-01,   6.08147311e-05],\n",
       "       [  9.99999285e-01,   6.81879612e-07],\n",
       "       [  1.00000000e+00,   7.99091637e-09],\n",
       "       [  1.00000000e+00,   9.59106544e-11],\n",
       "       [  1.00000000e+00,   1.15726406e-12],\n",
       "       [  1.00000000e+00,   1.38100785e-14],\n",
       "       [  1.00000000e+00,   1.60813970e-16],\n",
       "       [  1.00000000e+00,   1.80960317e-18],\n",
       "       [  1.00000000e+00,   1.95772826e-20]], dtype=float32)"
      ]
     },
     "execution_count": 82,
     "metadata": {},
     "output_type": "execute_result"
    }
   ],
   "source": [
    "sess.run(tf_prob, feed_dict={tf_obs:slog, tf_act:alog, tf_v:v})"
   ]
  },
  {
   "cell_type": "code",
   "execution_count": 86,
   "metadata": {
    "collapsed": false
   },
   "outputs": [
    {
     "data": {
      "text/plain": [
       "array([-0.00798257,  0.77247661], dtype=float32)"
      ]
     },
     "execution_count": 86,
     "metadata": {},
     "output_type": "execute_result"
    }
   ],
   "source": [
    "sess.run(b2)"
   ]
  }
 ],
 "metadata": {
  "anaconda-cloud": {},
  "kernelspec": {
   "display_name": "Python [default]",
   "language": "python",
   "name": "python2"
  },
  "language_info": {
   "codemirror_mode": {
    "name": "ipython",
    "version": 2
   },
   "file_extension": ".py",
   "mimetype": "text/x-python",
   "name": "python",
   "nbconvert_exporter": "python",
   "pygments_lexer": "ipython2",
   "version": "2.7.12"
  }
 },
 "nbformat": 4,
 "nbformat_minor": 1
}
