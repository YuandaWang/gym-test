{
 "cells": [
  {
   "cell_type": "code",
   "execution_count": 9,
   "metadata": {
    "collapsed": false
   },
   "outputs": [
    {
     "name": "stderr",
     "output_type": "stream",
     "text": [
      "[2017-07-09 21:37:19,361] Making new env: CartPole-v0\n"
     ]
    },
    {
     "name": "stdout",
     "output_type": "stream",
     "text": [
      "Training Done!\n"
     ]
    }
   ],
   "source": [
    "# Policy gradient with cartpole model. \n",
    "import gym\n",
    "import numpy as np\n",
    "import matplotlib.pyplot as plt\n",
    "\n",
    "env = gym.make('CartPole-v0')\n",
    "# observation 4, action 0 or 1\n",
    "\n",
    "# REINFORCE algorithm, update distribution parameters after one episode\n",
    "theta = np.random.random([4])\n",
    "gamma = 0.95\n",
    "alpha = 0.01\n",
    "steplog = []\n",
    "for episode in range(10000):\n",
    "    slog = []\n",
    "    alog = []\n",
    "    rlog = []\n",
    "    plog = []\n",
    "    env.reset()\n",
    "    action = env.action_space.sample()\n",
    "    s, r, d, info = env.step(action)\n",
    "    for step in range(200):\n",
    "        # sigmoid\n",
    "        #prob = np.exp(np.dot(s, theta))/np.sum(np.exp(np.dot(s, theta)))\n",
    "        prob = 1.0/(1.0 + np.exp(np.dot(s, theta)))\n",
    "        # choose action by probability\n",
    "        if prob > 0.5:\n",
    "            action = 1\n",
    "        else:\n",
    "            action = 0\n",
    "        \n",
    "        s, r, d, info = env.step(action)\n",
    "        plog.append(prob)\n",
    "        slog.append(s)\n",
    "        alog.append(action)\n",
    "        rlog.append(r)   \n",
    "        \n",
    "        #env.render()\n",
    "        \n",
    "        if d:\n",
    "            break\n",
    "\n",
    "    # calculate return v\n",
    "    v = np.zeros([len(rlog)])\n",
    "    v[-1] = rlog[-1]\n",
    "    for i in range(len(rlog)):\n",
    "        v[-i-1] = rlog[-i-1] + gamma * v[-i]\n",
    "    # normalize return v\n",
    "    v -= np.mean(v)\n",
    "    v /= np.std(v)\n",
    "        \n",
    "    # reinforce update parameter theta\n",
    "    for i in range(len(rlog)):\n",
    "        #dtheta1 = alpha * slog[i] * (1 - plog[i][a]) * v[i]\n",
    "        dtheta = alpha * slog[i] * (plog[i] - 1)\n",
    "        theta += dtheta\n",
    "    \n",
    "    steplog.append(step)\n",
    "print 'Training Done!'"
   ]
  },
  {
   "cell_type": "code",
   "execution_count": 10,
   "metadata": {
    "collapsed": false
   },
   "outputs": [
    {
     "data": {
      "image/png": "[encoded data removed]",
      "text/plain": [
       "<matplotlib.figure.Figure at 0x7feeef2f1590>"
      ]
     },
     "metadata": {},
     "output_type": "display_data"
    }
   ],
   "source": [
    "plt.plot(steplog)\n",
    "plt.show()"
   ]
  },
  {
   "cell_type": "code",
   "execution_count": 4,
   "metadata": {
    "collapsed": false
   },
   "outputs": [
    {
     "data": {
      "text/plain": [
       "array([-0.00015685,  0.00166069,  0.0001722 , -0.00272165])"
      ]
     },
     "execution_count": 4,
     "metadata": {},
     "output_type": "execute_result"
    }
   ],
   "source": [
    "alpha * slog[i] * (1 - plog[i])"
   ]
  },
  {
   "cell_type": "code",
   "execution_count": null,
   "metadata": {
    "collapsed": false
   },
   "outputs": [],
   "source": []
  },
  {
   "cell_type": "code",
   "execution_count": null,
   "metadata": {
    "collapsed": false
   },
   "outputs": [],
   "source": [
    "import numpy as np\n",
    "for i in range(1):\n",
    "    env.render()\n",
    "    action = env.action_space.sample()\n",
    "    s, r, d, info = env.step(action)\n",
    "    \n",
    "theta = np.random.random([4,2])\n",
    "np.dot(s, theta)"
   ]
  },
  {
   "cell_type": "code",
   "execution_count": null,
   "metadata": {
    "collapsed": true
   },
   "outputs": [],
   "source": []
  }
 ],
 "metadata": {
  "anaconda-cloud": {},
  "kernelspec": {
   "display_name": "Python [default]",
   "language": "python",
   "name": "python2"
  },
  "language_info": {
   "codemirror_mode": {
    "name": "ipython",
    "version": 2
   },
   "file_extension": ".py",
   "mimetype": "text/x-python",
   "name": "python",
   "nbconvert_exporter": "python",
   "pygments_lexer": "ipython2",
   "version": "2.7.12"
  }
 },
 "nbformat": 4,
 "nbformat_minor": 1
}
