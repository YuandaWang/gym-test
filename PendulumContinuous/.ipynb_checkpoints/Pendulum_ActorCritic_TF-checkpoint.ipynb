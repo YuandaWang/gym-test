{
 "cells": [
  {
   "cell_type": "code",
   "execution_count": 1,
   "metadata": {
    "collapsed": false
   },
   "outputs": [
    {
     "name": "stderr",
     "output_type": "stream",
     "text": [
      "[2017-07-10 13:34:46,844] Making new env: Pendulum-v0\n"
     ]
    },
    {
     "name": "stdout",
     "output_type": "stream",
     "text": [
      "199\n",
      "199\n",
      "199\n",
      "199\n",
      "199\n",
      "199\n",
      "199\n",
      "199\n",
      "199\n",
      "199\n"
     ]
    }
   ],
   "source": [
    "# Pendulum\n",
    "# Continuous Control\n",
    "# Actor Critic structure, with tensorflow\n",
    "\n",
    "# Hope it works\n",
    "\n",
    "import gym\n",
    "import numpy as np\n",
    "import matplotlib.pyplot as plt\n",
    "\n",
    "n_observation = 3\n",
    "n_action = 1\n",
    "n_hidden_c = 10\n",
    "n_hidden_a = 10\n",
    "\n",
    "# Critic Network\n",
    "# input: S, output: action values in S\n",
    "tf_obs_c = tf.placeholder(tf.float32, [None, n_observation])\n",
    "tf_obs_a = tf.placeholder(tf.float32, [None, n_observation])\n",
    "\n",
    "# layers\n",
    "W1_c = tf.Variable(tf.random_normal([n_observation, n_hidden_c]))\n",
    "b1_c = tf.Variable(tf.random_normal([n_hidden_c]))\n",
    "fc1_c = tf.nn.relu(tf.matmul(tf_obs_c, W1_c))\n",
    "\n",
    "W2_c = tf.Variable(tf.random_normal([n_hidden_c, n_action]))\n",
    "b2_c = tf.Variable(tf.random_normal([n_action]))\n",
    "\n",
    "out_c = tf.matmul(fc1_c, W2_c)\n",
    "\n",
    "# Action Network \n",
    "tf_obs_c = tf.placeholder(tf.float32, [None, n_observation])\n",
    "\n",
    "# layers\n",
    "W1_a = tf.Variable(tf.random_normal([n_observation, n_hidden_a]))\n",
    "b1_a = tf.Variable(tf.random_normal([n_hidden_a]))\n",
    "fc1_a = tf.nn.relu(tf.matmul(tf_obs_a, W1_a))\n",
    "\n",
    "W2_a = tf.Variable(tf.random_normal([n_hidden_a, n_action]))\n",
    "b2_a = tf.Variable(tf.random_normal([n_action]))\n",
    "\n",
    "out_a = tf.matmul(fc1_a, W2_a)\n",
    "\n",
    "env = gym.make('Pendulum-v0')\n",
    "\n",
    "for episode in range(10):\n",
    "    env.reset()\n",
    "    for i in range(1000):\n",
    "        action = env.action_space.sample()\n",
    "        s, r, d, info = env.step(action)\n",
    "        #env.render()\n",
    "        if d:\n",
    "            break\n",
    "    \n",
    "    print i"
   ]
  },
  {
   "cell_type": "code",
   "execution_count": null,
   "metadata": {
    "collapsed": true
   },
   "outputs": [],
   "source": []
  }
 ],
 "metadata": {
  "anaconda-cloud": {},
  "kernelspec": {
   "display_name": "Python [default]",
   "language": "python",
   "name": "python2"
  },
  "language_info": {
   "codemirror_mode": {
    "name": "ipython",
    "version": 2
   },
   "file_extension": ".py",
   "mimetype": "text/x-python",
   "name": "python",
   "nbconvert_exporter": "python",
   "pygments_lexer": "ipython2",
   "version": "2.7.12"
  }
 },
 "nbformat": 4,
 "nbformat_minor": 1
}
